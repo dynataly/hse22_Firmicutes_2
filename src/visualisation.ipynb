{
 "cells": [
  {
   "cell_type": "code",
   "execution_count": 1,
   "id": "e262d63f",
   "metadata": {},
   "outputs": [],
   "source": [
    "import pandas as pd\n",
    "from dna_features_viewer import GraphicFeature, GraphicRecord\n",
    "import numpy as np"
   ]
  },
  {
   "cell_type": "code",
   "execution_count": 94,
   "id": "360308de",
   "metadata": {},
   "outputs": [],
   "source": [
    "import matplotlib.pyplot as plt"
   ]
  },
  {
   "cell_type": "markdown",
   "id": "879287db",
   "metadata": {},
   "source": [
    "## Clusters with 7 taxons"
   ]
  },
  {
   "cell_type": "code",
   "execution_count": 4,
   "id": "b6d690c9",
   "metadata": {},
   "outputs": [
    {
     "data": {
      "text/html": [
       "<div>\n",
       "<style scoped>\n",
       "    .dataframe tbody tr th:only-of-type {\n",
       "        vertical-align: middle;\n",
       "    }\n",
       "\n",
       "    .dataframe tbody tr th {\n",
       "        vertical-align: top;\n",
       "    }\n",
       "\n",
       "    .dataframe thead th {\n",
       "        text-align: right;\n",
       "    }\n",
       "</style>\n",
       "<table border=\"1\" class=\"dataframe\">\n",
       "  <thead>\n",
       "    <tr style=\"text-align: right;\">\n",
       "      <th></th>\n",
       "      <th>Unnamed: 0</th>\n",
       "      <th># Species</th>\n",
       "      <th>Genes</th>\n",
       "      <th>Alg.-Conn.</th>\n",
       "      <th>Aerococcus_christensenii.faa</th>\n",
       "      <th>Aerococcus_urina.faa</th>\n",
       "      <th>Aerococcus_urinaeequi.faa</th>\n",
       "      <th>Aerococcus_urinaehominis.faa</th>\n",
       "      <th>Aerococcus_viridans.faa</th>\n",
       "      <th>Anoxybacillus_amylolyticus.faa</th>\n",
       "      <th>...</th>\n",
       "      <th>Thermoanaerobacter</th>\n",
       "      <th>Aerococcus</th>\n",
       "      <th>Anoxybacillus</th>\n",
       "      <th>Paenibacillus</th>\n",
       "      <th>Enterococcus</th>\n",
       "      <th>virgibacillius</th>\n",
       "      <th>Streptococcus</th>\n",
       "      <th>Staphylococcus</th>\n",
       "      <th>genes</th>\n",
       "      <th>taxons</th>\n",
       "    </tr>\n",
       "  </thead>\n",
       "  <tbody>\n",
       "    <tr>\n",
       "      <th>0</th>\n",
       "      <td>1692</td>\n",
       "      <td>38</td>\n",
       "      <td>41</td>\n",
       "      <td>0.617</td>\n",
       "      <td>WP_060776873.1</td>\n",
       "      <td>WP_013668580.1</td>\n",
       "      <td>WP_026465774.1</td>\n",
       "      <td>WP_067979319.1</td>\n",
       "      <td>WP_004262670.1</td>\n",
       "      <td>WP_003397701.1</td>\n",
       "      <td>...</td>\n",
       "      <td>0</td>\n",
       "      <td>5</td>\n",
       "      <td>0</td>\n",
       "      <td>4</td>\n",
       "      <td>1</td>\n",
       "      <td>2</td>\n",
       "      <td>5</td>\n",
       "      <td>4</td>\n",
       "      <td>0</td>\n",
       "      <td>6</td>\n",
       "    </tr>\n",
       "    <tr>\n",
       "      <th>1</th>\n",
       "      <td>9040</td>\n",
       "      <td>38</td>\n",
       "      <td>41</td>\n",
       "      <td>0.614</td>\n",
       "      <td>WP_060776538.1</td>\n",
       "      <td>WP_060778783.1</td>\n",
       "      <td>WP_059349315.1</td>\n",
       "      <td>WP_067978731.1</td>\n",
       "      <td>WP_039934536.1</td>\n",
       "      <td>WP_009361475.1</td>\n",
       "      <td>...</td>\n",
       "      <td>0</td>\n",
       "      <td>2</td>\n",
       "      <td>0</td>\n",
       "      <td>2</td>\n",
       "      <td>5</td>\n",
       "      <td>1</td>\n",
       "      <td>6</td>\n",
       "      <td>3</td>\n",
       "      <td>0</td>\n",
       "      <td>6</td>\n",
       "    </tr>\n",
       "  </tbody>\n",
       "</table>\n",
       "<p>2 rows × 52 columns</p>\n",
       "</div>"
      ],
      "text/plain": [
       "   Unnamed: 0  # Species  Genes  Alg.-Conn. Aerococcus_christensenii.faa  \\\n",
       "0        1692         38     41       0.617               WP_060776873.1   \n",
       "1        9040         38     41       0.614               WP_060776538.1   \n",
       "\n",
       "  Aerococcus_urina.faa Aerococcus_urinaeequi.faa Aerococcus_urinaehominis.faa  \\\n",
       "0       WP_013668580.1            WP_026465774.1               WP_067979319.1   \n",
       "1       WP_060778783.1            WP_059349315.1               WP_067978731.1   \n",
       "\n",
       "  Aerococcus_viridans.faa Anoxybacillus_amylolyticus.faa  ...  \\\n",
       "0          WP_004262670.1                 WP_003397701.1  ...   \n",
       "1          WP_039934536.1                 WP_009361475.1  ...   \n",
       "\n",
       "  Thermoanaerobacter Aerococcus Anoxybacillus Paenibacillus Enterococcus  \\\n",
       "0                  0          5             0             4            1   \n",
       "1                  0          2             0             2            5   \n",
       "\n",
       "  virgibacillius Streptococcus Staphylococcus genes taxons  \n",
       "0              2             5              4     0      6  \n",
       "1              1             6              3     0      6  \n",
       "\n",
       "[2 rows x 52 columns]"
      ]
     },
     "execution_count": 4,
     "metadata": {},
     "output_type": "execute_result"
    }
   ],
   "source": [
    "cl = pd.read_csv('cluster_6.csv')\n",
    "cl"
   ]
  },
  {
   "cell_type": "code",
   "execution_count": 57,
   "id": "3a540591",
   "metadata": {},
   "outputs": [],
   "source": [
    "cl_1 = ['Aerococcus_urinaehominis', 'Anoxybacillus_amylolyticus', 'Enterococcus_durans', 'Paenibacillus_stellifer']\n",
    "cl_1.append('Staphylococcus_auricularis')   #  first 3 are the same\n",
    "cl_1.append('Streptococcus_australis')   #  first 4 are equal\n",
    "cl_1.append('virgibacillius_dokdonensis')     #  or the last"
   ]
  },
  {
   "cell_type": "code",
   "execution_count": 7,
   "id": "b26be5d2",
   "metadata": {},
   "outputs": [],
   "source": [
    "cl_2 = ['Aerococcus_viridans', 'Anoxybacillus_fermentans','Enterococcus_durans']  # durans or fae or lact\n",
    "cl_2.append('Paenibacillus_cellulositrophicus')\n",
    "cl_2.append('Staphylococcus_lutrae')   # or the last\n",
    "cl_2.append('Streptococcus_sobrinus')\n",
    "cl_2.append('virgibacillius_phasianinus')"
   ]
  },
  {
   "cell_type": "code",
   "execution_count": null,
   "id": "24d728f6",
   "metadata": {},
   "outputs": [],
   "source": [
    "with open('')"
   ]
  },
  {
   "cell_type": "code",
   "execution_count": 61,
   "id": "673c74ce",
   "metadata": {
    "scrolled": true
   },
   "outputs": [
    {
     "data": {
      "text/html": [
       "<div>\n",
       "<style scoped>\n",
       "    .dataframe tbody tr th:only-of-type {\n",
       "        vertical-align: middle;\n",
       "    }\n",
       "\n",
       "    .dataframe tbody tr th {\n",
       "        vertical-align: top;\n",
       "    }\n",
       "\n",
       "    .dataframe thead th {\n",
       "        text-align: right;\n",
       "    }\n",
       "</style>\n",
       "<table border=\"1\" class=\"dataframe\">\n",
       "  <thead>\n",
       "    <tr style=\"text-align: right;\">\n",
       "      <th></th>\n",
       "      <th>Aerococcus_urinaehominis.faa</th>\n",
       "      <th>Anoxybacillus_amylolyticus.faa</th>\n",
       "      <th>Enterococcus_durans.faa</th>\n",
       "      <th>Paenibacillus_stellifer.faa</th>\n",
       "      <th>Staphylococcus_auricularis.faa</th>\n",
       "      <th>Streptococcus_australis.faa</th>\n",
       "      <th>virgibacillius_dokdonensis.faa</th>\n",
       "    </tr>\n",
       "  </thead>\n",
       "  <tbody>\n",
       "    <tr>\n",
       "      <th>0</th>\n",
       "      <td>WP_067979319.1</td>\n",
       "      <td>WP_003397701.1</td>\n",
       "      <td>WP_005881201.1</td>\n",
       "      <td>WP_038698970.1</td>\n",
       "      <td>QPT07092.1</td>\n",
       "      <td>WP_000075973.1</td>\n",
       "      <td>APC46845.1</td>\n",
       "    </tr>\n",
       "  </tbody>\n",
       "</table>\n",
       "</div>"
      ],
      "text/plain": [
       "  Aerococcus_urinaehominis.faa Anoxybacillus_amylolyticus.faa  \\\n",
       "0               WP_067979319.1                 WP_003397701.1   \n",
       "\n",
       "  Enterococcus_durans.faa Paenibacillus_stellifer.faa  \\\n",
       "0          WP_005881201.1              WP_038698970.1   \n",
       "\n",
       "  Staphylococcus_auricularis.faa Streptococcus_australis.faa  \\\n",
       "0                     QPT07092.1              WP_000075973.1   \n",
       "\n",
       "  virgibacillius_dokdonensis.faa  \n",
       "0                     APC46845.1  "
      ]
     },
     "execution_count": 61,
     "metadata": {},
     "output_type": "execute_result"
    }
   ],
   "source": [
    "cluster1 = cl[[x+'.faa' for x in cl_1]]\n",
    "cluster1 = cluster1.loc[cluster1['Aerococcus_urinaehominis.faa'] == 'WP_067979319.1']\n",
    "cluster1.iloc[0, 4]  = 'QPT07092.1'\n",
    "cluster1.iloc[0, -1] = 'APC46845.1'\n",
    "cluster1"
   ]
  },
  {
   "cell_type": "code",
   "execution_count": 33,
   "id": "65b78955",
   "metadata": {},
   "outputs": [
    {
     "data": {
      "text/html": [
       "<div>\n",
       "<style scoped>\n",
       "    .dataframe tbody tr th:only-of-type {\n",
       "        vertical-align: middle;\n",
       "    }\n",
       "\n",
       "    .dataframe tbody tr th {\n",
       "        vertical-align: top;\n",
       "    }\n",
       "\n",
       "    .dataframe thead th {\n",
       "        text-align: right;\n",
       "    }\n",
       "</style>\n",
       "<table border=\"1\" class=\"dataframe\">\n",
       "  <thead>\n",
       "    <tr style=\"text-align: right;\">\n",
       "      <th></th>\n",
       "      <th>Aerococcus_viridans.faa</th>\n",
       "      <th>Anoxybacillus_fermentans.faa</th>\n",
       "      <th>Enterococcus_durans.faa</th>\n",
       "      <th>Paenibacillus_cellulositrophicus.faa</th>\n",
       "      <th>Staphylococcus_lutrae.faa</th>\n",
       "      <th>Streptococcus_sobrinus.faa</th>\n",
       "      <th>virgibacillius_phasianinus.faa</th>\n",
       "    </tr>\n",
       "  </thead>\n",
       "  <tbody>\n",
       "    <tr>\n",
       "      <th>1</th>\n",
       "      <td>WP_039934536.1</td>\n",
       "      <td>WP_171567143.1</td>\n",
       "      <td>WP_005876899.1</td>\n",
       "      <td>WP_152400023.1</td>\n",
       "      <td>WP_085237551.1</td>\n",
       "      <td>WP_109833421.1</td>\n",
       "      <td>ASK61678.1</td>\n",
       "    </tr>\n",
       "  </tbody>\n",
       "</table>\n",
       "</div>"
      ],
      "text/plain": [
       "  Aerococcus_viridans.faa Anoxybacillus_fermentans.faa  \\\n",
       "1          WP_039934536.1               WP_171567143.1   \n",
       "\n",
       "  Enterococcus_durans.faa Paenibacillus_cellulositrophicus.faa  \\\n",
       "1          WP_005876899.1                       WP_152400023.1   \n",
       "\n",
       "  Staphylococcus_lutrae.faa Streptococcus_sobrinus.faa  \\\n",
       "1            WP_085237551.1             WP_109833421.1   \n",
       "\n",
       "  virgibacillius_phasianinus.faa  \n",
       "1                     ASK61678.1  "
      ]
     },
     "execution_count": 33,
     "metadata": {},
     "output_type": "execute_result"
    }
   ],
   "source": [
    "cluster2 = cl[[x+'.faa' for x in cl_2]]\n",
    "cluster2 = cluster2.loc[cluster2['Aerococcus_viridans.faa'] == 'WP_039934536.1']\n",
    "cluster2.iloc[0, -1] = 'ASK61678.1'\n",
    "cluster2"
   ]
  },
  {
   "cell_type": "markdown",
   "id": "20b01cc1",
   "metadata": {},
   "source": [
    "### CLuster 1:"
   ]
  },
  {
   "cell_type": "code",
   "execution_count": 91,
   "id": "9bacb90d",
   "metadata": {
    "scrolled": true
   },
   "outputs": [
    {
     "name": "stdout",
     "output_type": "stream",
     "text": [
      "Aerococcus\tWP_067979319.1\t1213165\t1213557\t+\t1213212\t1213225\t49376.54\n",
      "Anoxybacillus\tWP_003397701.1\t138267\t138659\t+\t138310\t138327\t68804.91\n",
      "Enterococcus\tWP_005881201.1\t940572\t940964\t-\t940923\t940935\t835.4928\n",
      "Paenibacillus\tWP_038698970.1\t5004556\t5004948\t-\t5004887\t5004901\t3738.179\n",
      "Staphylococcus\tQPT07092.1\t627181\t627579\t+\t627235\t627247\t1469.169\n",
      "Streptococcus\tWP_000075973.1\t1037725\t1038117\t+\t1037770\t1037785\t880.2792\n"
     ]
    }
   ],
   "source": [
    "out = open('cluster1.txt', 'w')\n",
    "print('org','gene','start','end','strand','zstart','zend','zscore', sep=',',file=out)\n",
    "\n",
    "for i in range(len(cl_1)-1):\n",
    "    org = cl_1[i]\n",
    "    ft = pd.read_csv('group/feature_table/'+org+'.txt', sep='\\t')\n",
    "    gene = cluster1.iat[0, i]\n",
    "    ft = ft.loc[ft['product_accession'] == gene]\n",
    "    \n",
    "    zdna = pd.read_csv('group/promoters/'+org+'.bed', sep='\\t', names=['1','2','3','4','5'])\n",
    "    zdna=zdna.loc[zdna['5'] == gene]\n",
    "    print(org[:org.find('_')],ft.iat[0, 10],ft.iat[0, 7], ft.iat[0, 8], ft.iat[0, 9],zdna.iat[0,1], zdna.iat[0,2],\\\n",
    "          zdna.iat[0,3], sep='\\t')\n",
    "    print(org,ft.iat[0, 10],ft.iat[0, 7], ft.iat[0, 8], ft.iat[0, 9],zdna.iat[0,1], zdna.iat[0,2],\\\n",
    "          zdna.iat[0,3], sep=',', file=out)\n"
   ]
  },
  {
   "cell_type": "code",
   "execution_count": 99,
   "id": "5a5d55b4",
   "metadata": {},
   "outputs": [
    {
     "data": {
      "text/html": [
       "<div>\n",
       "<style scoped>\n",
       "    .dataframe tbody tr th:only-of-type {\n",
       "        vertical-align: middle;\n",
       "    }\n",
       "\n",
       "    .dataframe tbody tr th {\n",
       "        vertical-align: top;\n",
       "    }\n",
       "\n",
       "    .dataframe thead th {\n",
       "        text-align: right;\n",
       "    }\n",
       "</style>\n",
       "<table border=\"1\" class=\"dataframe\">\n",
       "  <thead>\n",
       "    <tr style=\"text-align: right;\">\n",
       "      <th></th>\n",
       "      <th>org</th>\n",
       "      <th>gene</th>\n",
       "      <th>start</th>\n",
       "      <th>end</th>\n",
       "      <th>strand</th>\n",
       "      <th>zstart</th>\n",
       "      <th>zend</th>\n",
       "      <th>zscore</th>\n",
       "    </tr>\n",
       "  </thead>\n",
       "  <tbody>\n",
       "    <tr>\n",
       "      <th>0</th>\n",
       "      <td>Aerococcus_urinaehominis</td>\n",
       "      <td>WP_067979319.1</td>\n",
       "      <td>1213165</td>\n",
       "      <td>1213557</td>\n",
       "      <td>+</td>\n",
       "      <td>1213212</td>\n",
       "      <td>1213225</td>\n",
       "      <td>49376.5400</td>\n",
       "    </tr>\n",
       "    <tr>\n",
       "      <th>1</th>\n",
       "      <td>Anoxybacillus_amylolyticus</td>\n",
       "      <td>WP_003397701.1</td>\n",
       "      <td>138267</td>\n",
       "      <td>138659</td>\n",
       "      <td>+</td>\n",
       "      <td>138310</td>\n",
       "      <td>138327</td>\n",
       "      <td>68804.9100</td>\n",
       "    </tr>\n",
       "    <tr>\n",
       "      <th>2</th>\n",
       "      <td>Enterococcus_durans</td>\n",
       "      <td>WP_005881201.1</td>\n",
       "      <td>940572</td>\n",
       "      <td>940964</td>\n",
       "      <td>-</td>\n",
       "      <td>940923</td>\n",
       "      <td>940935</td>\n",
       "      <td>835.4928</td>\n",
       "    </tr>\n",
       "    <tr>\n",
       "      <th>3</th>\n",
       "      <td>Paenibacillus_stellifer</td>\n",
       "      <td>WP_038698970.1</td>\n",
       "      <td>5004556</td>\n",
       "      <td>5004948</td>\n",
       "      <td>-</td>\n",
       "      <td>5004887</td>\n",
       "      <td>5004901</td>\n",
       "      <td>3738.1790</td>\n",
       "    </tr>\n",
       "    <tr>\n",
       "      <th>4</th>\n",
       "      <td>Staphylococcus_auricularis</td>\n",
       "      <td>QPT07092.1</td>\n",
       "      <td>627181</td>\n",
       "      <td>627579</td>\n",
       "      <td>+</td>\n",
       "      <td>627235</td>\n",
       "      <td>627247</td>\n",
       "      <td>1469.1690</td>\n",
       "    </tr>\n",
       "    <tr>\n",
       "      <th>5</th>\n",
       "      <td>Streptococcus_australis</td>\n",
       "      <td>WP_000075973.1</td>\n",
       "      <td>1037725</td>\n",
       "      <td>1038117</td>\n",
       "      <td>+</td>\n",
       "      <td>1037770</td>\n",
       "      <td>1037785</td>\n",
       "      <td>880.2792</td>\n",
       "    </tr>\n",
       "  </tbody>\n",
       "</table>\n",
       "</div>"
      ],
      "text/plain": [
       "                          org            gene    start      end strand  \\\n",
       "0    Aerococcus_urinaehominis  WP_067979319.1  1213165  1213557      +   \n",
       "1  Anoxybacillus_amylolyticus  WP_003397701.1   138267   138659      +   \n",
       "2         Enterococcus_durans  WP_005881201.1   940572   940964      -   \n",
       "3     Paenibacillus_stellifer  WP_038698970.1  5004556  5004948      -   \n",
       "4  Staphylococcus_auricularis      QPT07092.1   627181   627579      +   \n",
       "5     Streptococcus_australis  WP_000075973.1  1037725  1038117      +   \n",
       "\n",
       "    zstart     zend      zscore  \n",
       "0  1213212  1213225  49376.5400  \n",
       "1   138310   138327  68804.9100  \n",
       "2   940923   940935    835.4928  \n",
       "3  5004887  5004901   3738.1790  \n",
       "4   627235   627247   1469.1690  \n",
       "5  1037770  1037785    880.2792  "
      ]
     },
     "execution_count": 99,
     "metadata": {},
     "output_type": "execute_result"
    }
   ],
   "source": [
    "t1 = pd.read_csv('cluster1.txt')\n",
    "t1"
   ]
  },
  {
   "cell_type": "code",
   "execution_count": 129,
   "id": "35458a8f",
   "metadata": {},
   "outputs": [
    {
     "data": {
      "image/png": "[encoded data removed]",
      "text/plain": [
       "<Figure size 864x576 with 6 Axes>"
      ]
     },
     "metadata": {},
     "output_type": "display_data"
    }
   ],
   "source": [
    "fig, ax = plt.subplots(nrows=6, ncols=1,figsize=(12, 8))\n",
    "\n",
    "table = pd.read_csv('cluster1.txt')\n",
    "\n",
    "\n",
    "for i in range(len(table)):\n",
    "    if table.iat[i,4] == '-':\n",
    "        tmp = table.iat[i, 5]\n",
    "        table.iat[i, 5] = table.iat[i, 2]+table.iat[i, 3]-table.iat[i, 6]\n",
    "        table.iat[i, 6] = table.iat[i, 2]+table.iat[i, 3]-tmp\n",
    "    \n",
    "    features=[\n",
    "        GraphicFeature(start=table.iat[i,5], end=table.iat[i,6], strand=+1, color=\"#ffd700\",\n",
    "                   label=\"Z-DNA, \"+str(table.iat[i,7])),\n",
    "        GraphicFeature(start=table.iat[i,2], end=table.iat[i,3], strand=+1, color=\"#ffcccc\",\n",
    "                   label=table.iat[i,0]+', '+table.iat[i,1]),\n",
    "\n",
    "    ]\n",
    "    record = GraphicRecord(sequence_length=table.iat[i,3]-table.iat[i,2]+100, \\\n",
    "                           first_index=table.iat[i,2]-50, features=features)\n",
    "    record.plot(ax=ax[i])\n",
    "\n",
    "_=fig.suptitle('cluster 1')\n",
    "plt.savefig('group/cluster1.jpeg')"
   ]
  },
  {
   "cell_type": "code",
   "execution_count": null,
   "id": "6932ef2c",
   "metadata": {},
   "outputs": [],
   "source": []
  },
  {
   "cell_type": "code",
   "execution_count": 125,
   "id": "caab7e22",
   "metadata": {},
   "outputs": [],
   "source": [
    "??GraphicRecord"
   ]
  },
  {
   "cell_type": "markdown",
   "id": "be74e3ba",
   "metadata": {},
   "source": [
    "### Cluster2:"
   ]
  },
  {
   "cell_type": "code",
   "execution_count": 87,
   "id": "e6f44f19",
   "metadata": {},
   "outputs": [
    {
     "name": "stdout",
     "output_type": "stream",
     "text": [
      "Aerococcus\tWP_039934536.1\t201917\t203392\t+\t201927\t201941\t4860.206\n",
      "Anoxybacillus\tWP_171567143.1\t1301197\t1302663\t+\t1301253\t1301269\t38833.58\n",
      "Enterococcus\tWP_005876899.1\t906425\t907885\t-\t907883\t907895\t4860.206\n",
      "Paenibacillus\tWP_152400023.1\t4362135\t4363595\t+\t4362142\t4362156\t6090.891\n",
      "Staphylococcus\tWP_085237551.1\t1539017\t1540471\t+\t1539076\t1539090\t1030.205\n",
      "Streptococcus\tWP_109833421.1\t223797\t225251\t+\t223808\t223821\t2752.447\n"
     ]
    }
   ],
   "source": [
    "out = open('cluster2.txt', 'w')\n",
    "print('org','gene','start','end','strand','zstart','zend','zscore', sep=',',file=out)\n",
    "\n",
    "for i in range(len(cl_2)-1):\n",
    "    org = cl_2[i]\n",
    "    ft = pd.read_csv('group/feature_table/'+org+'.txt', sep='\\t')\n",
    "    gene = cluster2.iat[0, i]\n",
    "    ft = ft.loc[ft['product_accession'] == gene]\n",
    "    \n",
    "    zdna = pd.read_csv('group/promoters/'+org+'.bed', sep='\\t', names=['1','2','3','4','5'])\n",
    "    zdna=zdna.loc[zdna['5'] == gene]\n",
    "    print(org[:org.find('_')],ft.iat[0, 10],ft.iat[0, 7], ft.iat[0, 8], ft.iat[0, 9],zdna.iat[0,1], zdna.iat[0,2],\\\n",
    "          zdna.iat[0,3], sep='\\t')\n",
    "    print(org,ft.iat[0, 10],ft.iat[0, 7], ft.iat[0, 8], ft.iat[0, 9],zdna.iat[0,1], zdna.iat[0,2],\\\n",
    "          zdna.iat[0,3], sep=',', file=out)\n",
    "    #break\n"
   ]
  },
  {
   "cell_type": "code",
   "execution_count": 88,
   "id": "dde1656f",
   "metadata": {},
   "outputs": [
    {
     "data": {
      "text/html": [
       "<div>\n",
       "<style scoped>\n",
       "    .dataframe tbody tr th:only-of-type {\n",
       "        vertical-align: middle;\n",
       "    }\n",
       "\n",
       "    .dataframe tbody tr th {\n",
       "        vertical-align: top;\n",
       "    }\n",
       "\n",
       "    .dataframe thead th {\n",
       "        text-align: right;\n",
       "    }\n",
       "</style>\n",
       "<table border=\"1\" class=\"dataframe\">\n",
       "  <thead>\n",
       "    <tr style=\"text-align: right;\">\n",
       "      <th></th>\n",
       "      <th>org</th>\n",
       "      <th>gene</th>\n",
       "      <th>start</th>\n",
       "      <th>end</th>\n",
       "      <th>strand</th>\n",
       "      <th>zstart</th>\n",
       "      <th>zend</th>\n",
       "      <th>zscore</th>\n",
       "    </tr>\n",
       "  </thead>\n",
       "  <tbody>\n",
       "    <tr>\n",
       "      <th>0</th>\n",
       "      <td>Aerococcus_viridans</td>\n",
       "      <td>WP_039934536.1</td>\n",
       "      <td>201917</td>\n",
       "      <td>203392</td>\n",
       "      <td>+</td>\n",
       "      <td>201927</td>\n",
       "      <td>201941</td>\n",
       "      <td>4860.206</td>\n",
       "    </tr>\n",
       "    <tr>\n",
       "      <th>1</th>\n",
       "      <td>Anoxybacillus_fermentans</td>\n",
       "      <td>WP_171567143.1</td>\n",
       "      <td>1301197</td>\n",
       "      <td>1302663</td>\n",
       "      <td>+</td>\n",
       "      <td>1301253</td>\n",
       "      <td>1301269</td>\n",
       "      <td>38833.580</td>\n",
       "    </tr>\n",
       "    <tr>\n",
       "      <th>2</th>\n",
       "      <td>Enterococcus_durans</td>\n",
       "      <td>WP_005876899.1</td>\n",
       "      <td>906425</td>\n",
       "      <td>907885</td>\n",
       "      <td>-</td>\n",
       "      <td>907883</td>\n",
       "      <td>907895</td>\n",
       "      <td>4860.206</td>\n",
       "    </tr>\n",
       "    <tr>\n",
       "      <th>3</th>\n",
       "      <td>Paenibacillus_cellulositrophicus</td>\n",
       "      <td>WP_152400023.1</td>\n",
       "      <td>4362135</td>\n",
       "      <td>4363595</td>\n",
       "      <td>+</td>\n",
       "      <td>4362142</td>\n",
       "      <td>4362156</td>\n",
       "      <td>6090.891</td>\n",
       "    </tr>\n",
       "    <tr>\n",
       "      <th>4</th>\n",
       "      <td>Staphylococcus_lutrae</td>\n",
       "      <td>WP_085237551.1</td>\n",
       "      <td>1539017</td>\n",
       "      <td>1540471</td>\n",
       "      <td>+</td>\n",
       "      <td>1539076</td>\n",
       "      <td>1539090</td>\n",
       "      <td>1030.205</td>\n",
       "    </tr>\n",
       "    <tr>\n",
       "      <th>5</th>\n",
       "      <td>Streptococcus_sobrinus</td>\n",
       "      <td>WP_109833421.1</td>\n",
       "      <td>223797</td>\n",
       "      <td>225251</td>\n",
       "      <td>+</td>\n",
       "      <td>223808</td>\n",
       "      <td>223821</td>\n",
       "      <td>2752.447</td>\n",
       "    </tr>\n",
       "  </tbody>\n",
       "</table>\n",
       "</div>"
      ],
      "text/plain": [
       "                                org            gene    start      end strand  \\\n",
       "0               Aerococcus_viridans  WP_039934536.1   201917   203392      +   \n",
       "1          Anoxybacillus_fermentans  WP_171567143.1  1301197  1302663      +   \n",
       "2               Enterococcus_durans  WP_005876899.1   906425   907885      -   \n",
       "3  Paenibacillus_cellulositrophicus  WP_152400023.1  4362135  4363595      +   \n",
       "4             Staphylococcus_lutrae  WP_085237551.1  1539017  1540471      +   \n",
       "5            Streptococcus_sobrinus  WP_109833421.1   223797   225251      +   \n",
       "\n",
       "    zstart     zend     zscore  \n",
       "0   201927   201941   4860.206  \n",
       "1  1301253  1301269  38833.580  \n",
       "2   907883   907895   4860.206  \n",
       "3  4362142  4362156   6090.891  \n",
       "4  1539076  1539090   1030.205  \n",
       "5   223808   223821   2752.447  "
      ]
     },
     "execution_count": 88,
     "metadata": {},
     "output_type": "execute_result"
    }
   ],
   "source": [
    "t2 = pd.read_csv('cluster2.txt')\n",
    "t2"
   ]
  },
  {
   "cell_type": "code",
   "execution_count": 130,
   "id": "22d3e78f",
   "metadata": {},
   "outputs": [
    {
     "data": {
      "image/png": "[encoded data removed]",
      "text/plain": [
       "<Figure size 864x576 with 6 Axes>"
      ]
     },
     "metadata": {},
     "output_type": "display_data"
    }
   ],
   "source": [
    "fig, ax = plt.subplots(nrows=6, ncols=1,figsize=(12, 8))\n",
    "\n",
    "table = pd.read_csv('cluster2.txt')\n",
    "\n",
    "\n",
    "for i in range(len(table)):\n",
    "    if table.iat[i,4] == '-':\n",
    "        tmp = table.iat[i, 5]\n",
    "        table.iat[i, 5] = table.iat[i, 2]+table.iat[i, 3]-table.iat[i, 6]\n",
    "        table.iat[i, 6] = table.iat[i, 2]+table.iat[i, 3]-tmp\n",
    "    \n",
    "    features=[\n",
    "        GraphicFeature(start=table.iat[i,5], end=table.iat[i,6], strand=+1, color=\"#ffd700\",\n",
    "                   label=\"Z-DNA, \"+str(table.iat[i,7])),\n",
    "        GraphicFeature(start=table.iat[i,2], end=table.iat[i,3], strand=+1, color=\"#ffcccc\",\n",
    "                   label=table.iat[i,0]+', '+table.iat[i,1]),\n",
    "\n",
    "    ]\n",
    "    record = GraphicRecord(sequence_length=table.iat[i,3]-table.iat[i,2]+100, \\\n",
    "                           first_index=table.iat[i,2]-50, features=features)\n",
    "    record.plot(ax=ax[i])\n",
    "\n",
    "_=fig.suptitle('cluster 2')\n",
    "plt.savefig('group/cluster2.jpeg')"
   ]
  },
  {
   "cell_type": "code",
   "execution_count": null,
   "id": "7f5e20c8",
   "metadata": {},
   "outputs": [],
   "source": []
  },
  {
   "cell_type": "code",
   "execution_count": null,
   "id": "e584b595",
   "metadata": {},
   "outputs": [],
   "source": []
  },
  {
   "cell_type": "markdown",
   "id": "3c62766f",
   "metadata": {},
   "source": [
    "Alignment:"
   ]
  },
  {
   "cell_type": "code",
   "execution_count": 136,
   "id": "161109d5",
   "metadata": {},
   "outputs": [
    {
     "name": "stdout",
     "output_type": "stream",
     "text": [
      "\n",
      "MUSCLE v3.8.1551 by Robert C. Edgar\n",
      "\n",
      "http://www.drive5.com/muscle\n",
      "This software is donated to the public domain.\n",
      "Please cite: Edgar, R.C. Nucleic Acids Res 32(5), 1792-97.\n",
      "\n",
      "cluster1 7 seqs, lengths min 130, max 132, avg 130\n",
      "00:00:00     15 MB(1%)  Iter   1  100.00%  K-mer dist pass 1\n",
      "00:00:00     15 MB(1%)  Iter   1  100.00%  K-mer dist pass 2\n",
      "00:00:00     17 MB(1%)  Iter   1  100.00%  Align node       \n",
      "00:00:00     17 MB(1%)  Iter   1  100.00%  Root alignment\n",
      "00:00:00     17 MB(1%)  Iter   2  100.00%  Refine tree   \n",
      "00:00:00     17 MB(1%)  Iter   2  100.00%  Root alignment\n",
      "00:00:00     17 MB(1%)  Iter   2  100.00%  Root alignment\n",
      "00:00:00     17 MB(1%)  Iter   3  100.00%  Refine biparts\n",
      "00:00:00     17 MB(1%)  Iter   4  100.00%  Refine biparts\n",
      "00:00:00     17 MB(1%)  Iter   5  100.00%  Refine biparts\n",
      "00:00:00     17 MB(1%)  Iter   6  100.00%  Refine biparts\n",
      "00:00:00     17 MB(1%)  Iter   7  100.00%  Refine biparts\n",
      "\n",
      "MUSCLE v3.8.1551 by Robert C. Edgar\n",
      "\n",
      "http://www.drive5.com/muscle\n",
      "This software is donated to the public domain.\n",
      "Please cite: Edgar, R.C. Nucleic Acids Res 32(5), 1792-97.\n",
      "\n",
      "cluster2 6 seqs, lengths min 484, max 491, avg 486\n",
      "00:00:00     15 MB(1%)  Iter   1  100.00%  K-mer dist pass 1\n",
      "00:00:00     15 MB(1%)  Iter   1  100.00%  K-mer dist pass 2\n",
      "00:00:00     19 MB(1%)  Iter   1  100.00%  Align node       \n",
      "00:00:00     19 MB(1%)  Iter   1  100.00%  Root alignment\n",
      "00:00:00     19 MB(1%)  Iter   2  100.00%  Refine tree   \n",
      "00:00:00     19 MB(1%)  Iter   2  100.00%  Root alignment\n",
      "00:00:00     19 MB(1%)  Iter   2  100.00%  Root alignment\n",
      "00:00:00     19 MB(1%)  Iter   3  100.00%  Refine biparts\n",
      "00:00:00     19 MB(1%)  Iter   4  100.00%  Refine biparts\n",
      "00:00:00     19 MB(1%)  Iter   5  100.00%  Refine biparts\n",
      "00:00:00     19 MB(1%)  Iter   6  100.00%  Refine biparts\n",
      "00:00:00     19 MB(1%)  Iter   7  100.00%  Refine biparts\n",
      "00:00:00     19 MB(1%)  Iter   8  100.00%  Refine biparts\n",
      "00:00:00     19 MB(1%)  Iter   9  100.00%  Refine biparts\n",
      "00:00:00     19 MB(1%)  Iter  10  100.00%  Refine biparts\n",
      "00:00:00     19 MB(1%)  Iter  11  100.00%  Refine biparts\n",
      "00:00:00     19 MB(1%)  Iter  12  100.00%  Refine biparts\n",
      "00:00:00     19 MB(1%)  Iter  13  100.00%  Refine biparts\n",
      "00:00:00     19 MB(1%)  Iter  14  100.00%  Refine biparts\n",
      "00:00:00     19 MB(1%)  Iter  15  100.00%  Refine biparts\n"
     ]
    }
   ],
   "source": [
    "!muscle -in group/cluster1.fasta -out group/cluster1_aligned.fasta\n",
    "!muscle -in group/cluster2.fasta -out group/cluster2_aligned.fasta"
   ]
  },
  {
   "cell_type": "code",
   "execution_count": 135,
   "id": "814e7bf7",
   "metadata": {
    "scrolled": false
   },
   "outputs": [
    {
     "name": "stdout",
     "output_type": "stream",
     "text": [
      "\r\n",
      "MUSCLE v3.8.1551 by Robert C. Edgar\r\n",
      "\r\n",
      "http://www.drive5.com/muscle\r\n",
      "This software is donated to the public domain.\r\n",
      "Please cite: Edgar, R.C. Nucleic Acids Res 32(5), 1792-97.\r\n",
      "\r\n",
      "\r\n",
      "Basic usage\r\n",
      "\r\n",
      "    muscle -in <inputfile> -out <outputfile>\r\n",
      "\r\n",
      "Common options (for a complete list please see the User Guide):\r\n",
      "\r\n",
      "    -in <inputfile>    Input file in FASTA format (default stdin)\r\n",
      "    -out <outputfile>  Output alignment in FASTA format (default stdout)\r\n",
      "    -diags             Find diagonals (faster for similar sequences)\r\n",
      "    -maxiters <n>      Maximum number of iterations (integer, default 16)\r\n",
      "    -maxhours <h>      Maximum time to iterate in hours (default no limit)\r\n",
      "    -html              Write output in HTML format (default FASTA)\r\n",
      "    -msf               Write output in GCG MSF format (default FASTA)\r\n",
      "    -clw               Write output in CLUSTALW format (default FASTA)\r\n",
      "    -clwstrict         As -clw, with 'CLUSTAL W (1.81)' header\r\n",
      "    -log[a] <logfile>  Log to file (append if -loga, overwrite if -log)\r\n",
      "    -quiet             Do not write progress messages to stderr\r\n",
      "    -version           Display version information and exit\r\n",
      "\r\n",
      "Without refinement (very fast, avg accuracy similar to T-Coffee): -maxiters 2\r\n",
      "Fastest possible (amino acids): -maxiters 1 -diags -sv -distance1 kbit20_3\r\n",
      "Fastest possible (nucleotides): -maxiters 1 -diags\r\n"
     ]
    }
   ],
   "source": [
    "!muscle"
   ]
  },
  {
   "cell_type": "code",
   "execution_count": null,
   "id": "1d3fc221",
   "metadata": {},
   "outputs": [],
   "source": []
  }
 ],
 "metadata": {
  "kernelspec": {
   "display_name": "Python 3 (ipykernel)",
   "language": "python",
   "name": "python3"
  },
  "language_info": {
   "codemirror_mode": {
    "name": "ipython",
    "version": 3
   },
   "file_extension": ".py",
   "mimetype": "text/x-python",
   "name": "python",
   "nbconvert_exporter": "python",
   "pygments_lexer": "ipython3",
   "version": "3.9.7"
  }
 },
 "nbformat": 4,
 "nbformat_minor": 5
}
